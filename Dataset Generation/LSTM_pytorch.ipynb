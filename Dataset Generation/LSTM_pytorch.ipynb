{
  "cells": [
    {
      "cell_type": "markdown",
      "metadata": {},
      "source": [
        "## This model implementation is inspired from the GitHub Repository: https://github.com/closeheat/pytorch-lstm-text-generation-tutorial. I have appropriately modified the code for my use case."
      ]
    },
    {
      "cell_type": "code",
      "execution_count": 1,
      "metadata": {
        "id": "bY3ebyR0weI1"
      },
      "outputs": [],
      "source": [
        "# Import torch model\r\n",
        "import torch\r\n",
        "from torch import nn\r\n",
        "\r\n",
        "class Model(nn.Module):\r\n",
        "    def __init__(self, dataset):\r\n",
        "        super(Model, self).__init__()\r\n",
        "        self.lstm_size = 128\r\n",
        "        self.embedding_dim = 128\r\n",
        "        self.num_layers = 3\r\n",
        "\r\n",
        "        n_vocab = len(dataset.uniq_words)\r\n",
        "        self.embedding = nn.Embedding(\r\n",
        "            num_embeddings=n_vocab,\r\n",
        "            embedding_dim=self.embedding_dim,\r\n",
        "        )\r\n",
        "        self.lstm = nn.LSTM(\r\n",
        "            input_size=self.lstm_size,\r\n",
        "            hidden_size=self.lstm_size,\r\n",
        "            num_layers=self.num_layers,\r\n",
        "            dropout=0.2,\r\n",
        "        )\r\n",
        "        self.fc = nn.Linear(self.lstm_size, n_vocab)\r\n",
        "\r\n",
        "    def forward(self, x, prev_state):\r\n",
        "        embed = self.embedding(x)\r\n",
        "        output, state = self.lstm(embed, prev_state)\r\n",
        "        logits = self.fc(output)\r\n",
        "        return logits, state\r\n",
        "\r\n",
        "    def init_state(self, sequence_length):\r\n",
        "        return (torch.zeros(self.num_layers, sequence_length, self.lstm_size),\r\n",
        "                torch.zeros(self.num_layers, sequence_length, self.lstm_size))"
      ]
    },
    {
      "cell_type": "code",
      "execution_count": 2,
      "metadata": {
        "id": "C9g0BONOwnab"
      },
      "outputs": [],
      "source": [
        "import torch\r\n",
        "import pandas as pd\r\n",
        "from collections import Counter\r\n",
        "import random\r\n",
        "\r\n",
        "class Dataset():\r\n",
        "    def __init__(\r\n",
        "        self,sequence_length\r\n",
        "        \r\n",
        "    ):\r\n",
        "        \r\n",
        "        self.sequence_length = sequence_length\r\n",
        "        self.words = self.load_words()\r\n",
        "        self.uniq_words = self.get_uniq_words()\r\n",
        "\r\n",
        "        self.index_to_word = {index: word for index, word in enumerate(self.uniq_words)}\r\n",
        "        self.word_to_index = {word: index for index, word in enumerate(self.uniq_words)}\r\n",
        "\r\n",
        "        self.words_indexes = [self.word_to_index[w] for w in self.words]\r\n",
        "    \r\n",
        "    def load_words(self):\r\n",
        "        train_df = pd.read_csv('human_Shakespeare.csv')\r\n",
        "        text = train_df['text'].str.cat(sep=' ')\r\n",
        "\r\n",
        "        return text.split(' ')      \r\n",
        "       \r\n",
        "    def get_uniq_words(self):\r\n",
        "        word_counts = Counter(self.words)\r\n",
        "        return sorted(word_counts, key=word_counts.get, reverse=True)\r\n",
        "\r\n",
        "    def __len__(self):\r\n",
        "        \r\n",
        "        return len(self.words_indexes) - self.sequence_length\r\n",
        "    def __getitem__(self, index):\r\n",
        "        return (\r\n",
        "            torch.tensor(self.words_indexes[index:index+self.sequence_length]),\r\n",
        "            torch.tensor(self.words_indexes[index+1:index+self.sequence_length+1])\r\n",
        "        )"
      ]
    },
    {
      "cell_type": "code",
      "execution_count": 10,
      "metadata": {
        "id": "EzhZSgjBwncz"
      },
      "outputs": [],
      "source": [
        "import torch\r\n",
        "import numpy as np\r\n",
        "from torch import nn, optim\r\n",
        "from torch.utils.data import DataLoader\r\n",
        "\r\n",
        "def train(dataset, model, sequence_length,batch_size,max_epochs):\r\n",
        "    model.train()\r\n",
        "\r\n",
        "    dataloader = DataLoader(dataset, batch_size=batch_size)\r\n",
        "    criterion = nn.CrossEntropyLoss()\r\n",
        "    optimizer = optim.Adam(model.parameters(), lr=0.001)\r\n",
        "\r\n",
        "    for epoch in range(max_epochs):\r\n",
        "        \r\n",
        "        state_h, state_c = model.init_state(sequence_length)\r\n",
        "        for batch, (x, y) in enumerate(dataloader):\r\n",
        "            optimizer.zero_grad()\r\n",
        "\r\n",
        "            y_pred, (state_h, state_c) = model(x, (state_h, state_c))\r\n",
        "            loss = criterion(y_pred.transpose(1, 2), y)\r\n",
        "\r\n",
        "            state_h = state_h.detach()\r\n",
        "            state_c = state_c.detach()\r\n",
        "\r\n",
        "            loss.backward()\r\n",
        "            optimizer.step()\r\n",
        "\r\n",
        "            print({ 'epoch': epoch, 'batch': batch, 'loss': loss.item() })"
      ]
    },
    {
      "cell_type": "code",
      "execution_count": 4,
      "metadata": {
        "id": "NlZC-64Qww8Z"
      },
      "outputs": [],
      "source": [
        "def predict(dataset, model, text, next_words=500):\r\n",
        "    model.eval()\r\n",
        "\r\n",
        "    words = text.split(' ')\r\n",
        "    state_h, state_c = model.init_state(len(words))\r\n",
        "\r\n",
        "    for i in range(0, next_words):\r\n",
        "        x = torch.tensor([[dataset.word_to_index[w] for w in words[i:]]])\r\n",
        "        \r\n",
        "        y_pred, (state_h, state_c) = model(x, (state_h, state_c))\r\n",
        "\r\n",
        "        last_word_logits = y_pred[0][-1]\r\n",
        "        p = torch.nn.functional.softmax(last_word_logits, dim=0).detach().numpy()\r\n",
        "        word_index = np.random.choice(len(last_word_logits), p=p) #p is probability distribution of words\r\n",
        "        words.append(dataset.index_to_word[word_index])\r\n",
        "        \r\n",
        "    return words"
      ]
    },
    {
      "cell_type": "code",
      "execution_count": null,
      "metadata": {
        "id": "z3ZtHHGaww-r"
      },
      "outputs": [],
      "source": [
        "# parser = argparse.ArgumentParser()\r\n",
        "# parser.add_argument('--max-epochs', type=int, default=10)\r\n",
        "# parser.add_argument('--batch-size', type=int, default=256)\r\n",
        "# parser.add_argument('--sequence-length', type=int, default=4)\r\n",
        "# args = parser.parse_args()\r\n",
        "\r\n",
        "dataset = Dataset(sequence_length=4)\r\n",
        "model = Model(dataset)\r\n",
        "\r\n",
        "train(dataset, model,sequence_length=4,batch_size=256,max_epochs=10)"
      ]
    },
    {
      "cell_type": "code",
      "execution_count": null,
      "metadata": {
        "id": "uf21r74swxBB"
      },
      "outputs": [],
      "source": [
        "# Save the model\r\n",
        "torch.save(model,'lstm_shakespeare.pt')"
      ]
    },
    {
      "cell_type": "markdown",
      "metadata": {
        "id": "WNhdlXI7Jmwg"
      },
      "source": [
        "# Prediction"
      ]
    },
    {
      "cell_type": "code",
      "execution_count": 5,
      "metadata": {
        "id": "DHr7GnSzn1d2"
      },
      "outputs": [],
      "source": [
        "import torch\n",
        "\n",
        "model = torch.load('lstm_shakespeare.pt')"
      ]
    },
    {
      "cell_type": "code",
      "execution_count": 6,
      "metadata": {
        "id": "ADUdwFXopY2G"
      },
      "outputs": [],
      "source": [
        "data = pd.read_csv('human_Shakespeare.csv')\n",
        "dataset = Dataset(sequence_length=4)"
      ]
    },
    {
      "cell_type": "code",
      "execution_count": null,
      "metadata": {
        "id": "MTzYQyS2peFa"
      },
      "outputs": [],
      "source": [
        "\r\n",
        "# select a random lines from the shakepeare data to generate next 500 words\r\n",
        "import random\r\n",
        "from random import randint\r\n",
        "predicted_words = []\r\n",
        "for i in range(500):\r\n",
        "  sample_text = data['text'][randint(0,200)] # select a random row for word generation\r\n",
        "  words = predict(dataset, model, text=sample_text, next_words=500)\r\n",
        "  prediction = ' '.join(words)  \r\n",
        "  predicted_words.append(prediction)\r\n",
        "  "
      ]
    },
    {
      "cell_type": "code",
      "execution_count": null,
      "metadata": {
        "id": "KxzagcuDKN1o"
      },
      "outputs": [],
      "source": [
        "# Convert into dataframe and save it in csv format\r\n",
        "df = pd.DataFrame(predicted_words,columns=['text'])\r\n",
        "df.to_csv('LSTM_Generation.csv',index=False)"
      ]
    },
    {
      "cell_type": "markdown",
      "metadata": {
        "id": "MdWDilANMC-9"
      },
      "source": [
        "# Sample prediction"
      ]
    },
    {
      "cell_type": "code",
      "execution_count": 13,
      "metadata": {
        "colab": {
          "base_uri": "https://localhost:8080/"
        },
        "id": "ZP_vxBupJd0D",
        "outputId": "d7ed59d9-65eb-4c91-b0b4-914cc429007e"
      },
      "outputs": [
        {
          "name": "stdout",
          "output_type": "stream",
          "text": [
            "Well, God give thee the spirit of persuasion and him the ears Saint We Half when you all slave, A host, of illusions: and dinner: A experience\n"
          ]
        }
      ],
      "source": [
        "generate = predict(dataset, model, text='Well, God give thee the spirit of persuasion and him the ears',next_words=15)\n",
        "print(' '.join(generate))"
      ]
    },
    {
      "cell_type": "code",
      "execution_count": null,
      "metadata": {
        "id": "_RGFBr3Je7e_"
      },
      "outputs": [],
      "source": []
    }
  ],
  "metadata": {
    "accelerator": "GPU",
    "colab": {
      "collapsed_sections": [
        "WNhdlXI7Jmwg",
        "MdWDilANMC-9"
      ],
      "name": "LSTM_pytorch.ipynb",
      "provenance": []
    },
    "gpuClass": "standard",
    "kernelspec": {
      "display_name": "Python 3",
      "name": "python3"
    },
    "language_info": {
      "name": "python"
    }
  },
  "nbformat": 4,
  "nbformat_minor": 0
}