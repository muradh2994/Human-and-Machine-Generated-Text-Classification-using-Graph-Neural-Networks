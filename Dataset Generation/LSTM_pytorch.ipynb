{
  "cells": [
    {
      "cell_type": "code",
      "execution_count": 1,
      "metadata": {
        "id": "bY3ebyR0weI1"
      },
      "outputs": [],
      "source": [
        "import torch\n",
        "from torch import nn\n",
        "\n",
        "class Model(nn.Module):\n",
        "    def __init__(self, dataset):\n",
        "        super(Model, self).__init__()\n",
        "        self.lstm_size = 128\n",
        "        self.embedding_dim = 128\n",
        "        self.num_layers = 3\n",
        "\n",
        "        n_vocab = len(dataset.uniq_words)\n",
        "        self.embedding = nn.Embedding(\n",
        "            num_embeddings=n_vocab,\n",
        "            embedding_dim=self.embedding_dim,\n",
        "        )\n",
        "        self.lstm = nn.LSTM(\n",
        "            input_size=self.lstm_size,\n",
        "            hidden_size=self.lstm_size,\n",
        "            num_layers=self.num_layers,\n",
        "            dropout=0.2,\n",
        "        )\n",
        "        self.fc = nn.Linear(self.lstm_size, n_vocab)\n",
        "\n",
        "    def forward(self, x, prev_state):\n",
        "        embed = self.embedding(x)\n",
        "        output, state = self.lstm(embed, prev_state)\n",
        "        logits = self.fc(output)\n",
        "        return logits, state\n",
        "\n",
        "    def init_state(self, sequence_length):\n",
        "        return (torch.zeros(self.num_layers, sequence_length, self.lstm_size),\n",
        "                torch.zeros(self.num_layers, sequence_length, self.lstm_size))"
      ]
    },
    {
      "cell_type": "code",
      "execution_count": 2,
      "metadata": {
        "id": "C9g0BONOwnab"
      },
      "outputs": [],
      "source": [
        "import torch\n",
        "import pandas as pd\n",
        "from collections import Counter\n",
        "import random\n",
        "\n",
        "class Dataset():\n",
        "    def __init__(\n",
        "        self,sequence_length\n",
        "        #args,\n",
        "    ):\n",
        "        #self.args = args\n",
        "        self.sequence_length = sequence_length\n",
        "        self.words = self.load_words()\n",
        "        self.uniq_words = self.get_uniq_words()\n",
        "\n",
        "        self.index_to_word = {index: word for index, word in enumerate(self.uniq_words)}\n",
        "        self.word_to_index = {word: index for index, word in enumerate(self.uniq_words)}\n",
        "\n",
        "        self.words_indexes = [self.word_to_index[w] for w in self.words]\n",
        "    \n",
        "    def load_words(self):\n",
        "        train_df = pd.read_csv('human_Shakespeare.csv')\n",
        "        text = train_df['text'].str.cat(sep=' ')\n",
        "\n",
        "        return text.split(' ')      \n",
        "       \n",
        "    def get_uniq_words(self):\n",
        "        word_counts = Counter(self.words)\n",
        "        return sorted(word_counts, key=word_counts.get, reverse=True)\n",
        "\n",
        "    def __len__(self):\n",
        "        #return len(self.words_indexes) - self.args.sequence_length\n",
        "        return len(self.words_indexes) - self.sequence_length\n",
        "    def __getitem__(self, index):\n",
        "        return (\n",
        "            #torch.tensor(self.words_indexes[index:index+self.args.sequence_length]),\n",
        "            #torch.tensor(self.words_indexes[index+1:index+self.args.sequence_length+1]),\n",
        "            torch.tensor(self.words_indexes[index:index+self.sequence_length]),\n",
        "            torch.tensor(self.words_indexes[index+1:index+self.sequence_length+1])\n",
        "        )"
      ]
    },
    {
      "cell_type": "code",
      "execution_count": 10,
      "metadata": {
        "id": "EzhZSgjBwncz"
      },
      "outputs": [],
      "source": [
        "import torch\n",
        "import numpy as np\n",
        "from torch import nn, optim\n",
        "from torch.utils.data import DataLoader\n",
        "\n",
        "def train(dataset, model, sequence_length,batch_size,max_epochs):\n",
        "    model.train()\n",
        "\n",
        "    dataloader = DataLoader(dataset, batch_size=batch_size)\n",
        "    criterion = nn.CrossEntropyLoss()\n",
        "    optimizer = optim.Adam(model.parameters(), lr=0.001)\n",
        "\n",
        "    for epoch in range(max_epochs):\n",
        "        #state_h, state_c = model.init_state(args.sequence_length)\n",
        "        state_h, state_c = model.init_state(sequence_length)\n",
        "        for batch, (x, y) in enumerate(dataloader):\n",
        "            optimizer.zero_grad()\n",
        "\n",
        "            y_pred, (state_h, state_c) = model(x, (state_h, state_c))\n",
        "            loss = criterion(y_pred.transpose(1, 2), y)\n",
        "\n",
        "            state_h = state_h.detach()\n",
        "            state_c = state_c.detach()\n",
        "\n",
        "            loss.backward()\n",
        "            optimizer.step()\n",
        "\n",
        "            print({ 'epoch': epoch, 'batch': batch, 'loss': loss.item() })"
      ]
    },
    {
      "cell_type": "code",
      "execution_count": 4,
      "metadata": {
        "id": "NlZC-64Qww8Z"
      },
      "outputs": [],
      "source": [
        "def predict(dataset, model, text, next_words=500):\n",
        "    model.eval()\n",
        "\n",
        "    words = text.split(' ')\n",
        "    state_h, state_c = model.init_state(len(words))\n",
        "\n",
        "    for i in range(0, next_words):\n",
        "        x = torch.tensor([[dataset.word_to_index[w] for w in words[i:]]])\n",
        "        #x = torch.tensor([[dataset.word_to_index[w] for w in words]])\n",
        "        y_pred, (state_h, state_c) = model(x, (state_h, state_c))\n",
        "\n",
        "        last_word_logits = y_pred[0][-1]\n",
        "        p = torch.nn.functional.softmax(last_word_logits, dim=0).detach().numpy()\n",
        "        word_index = np.random.choice(len(last_word_logits), p=p) #p is probability distribution of words\n",
        "        words.append(dataset.index_to_word[word_index])\n",
        "        \n",
        "    return words"
      ]
    },
    {
      "cell_type": "code",
      "execution_count": null,
      "metadata": {
        "id": "z3ZtHHGaww-r"
      },
      "outputs": [],
      "source": [
        "# parser = argparse.ArgumentParser()\n",
        "# parser.add_argument('--max-epochs', type=int, default=10)\n",
        "# parser.add_argument('--batch-size', type=int, default=256)\n",
        "# parser.add_argument('--sequence-length', type=int, default=4)\n",
        "# args = parser.parse_args()\n",
        "\n",
        "dataset = Dataset(sequence_length=4)\n",
        "model = Model(dataset)\n",
        "\n",
        "train(dataset, model,sequence_length=4,batch_size=256,max_epochs=10)\n",
        "#print(predict(dataset, model, text='Knock knock. Whos there?'))"
      ]
    },
    {
      "cell_type": "code",
      "execution_count": null,
      "metadata": {
        "id": "uf21r74swxBB"
      },
      "outputs": [],
      "source": [
        "torch.save(model,'lstm_shakespeare.pt')"
      ]
    },
    {
      "cell_type": "markdown",
      "source": [
        "# Prediction"
      ],
      "metadata": {
        "id": "WNhdlXI7Jmwg"
      }
    },
    {
      "cell_type": "code",
      "source": [
        "import torch\n",
        "\n",
        "model = torch.load('lstm_shakespeare.pt')"
      ],
      "metadata": {
        "id": "DHr7GnSzn1d2"
      },
      "execution_count": 5,
      "outputs": []
    },
    {
      "cell_type": "code",
      "source": [
        "data = pd.read_csv('human_Shakespeare.csv')\n",
        "dataset = Dataset(sequence_length=4)"
      ],
      "metadata": {
        "id": "ADUdwFXopY2G"
      },
      "execution_count": 6,
      "outputs": []
    },
    {
      "cell_type": "code",
      "source": [
        "dataset = Dataset(sequence_length=4)\n",
        "import random\n",
        "  \n",
        "from random import randint\n",
        "predicted_words = []\n",
        "for i in range(500):\n",
        "  sample_text = data['text'][randint(0,200)] # select a random row for word generation\n",
        "  words = predict(dataset, model, text=sample_text, next_words=500)\n",
        "  prediction = ' '.join(words)  \n",
        "  predicted_words.append(prediction)\n",
        "  "
      ],
      "metadata": {
        "id": "MTzYQyS2peFa"
      },
      "execution_count": null,
      "outputs": []
    },
    {
      "cell_type": "code",
      "source": [
        "df = pd.DataFrame(predicted_words,columns=['text'])\n",
        "df.to_csv('LSTM_Generation.csv',index=False)"
      ],
      "metadata": {
        "id": "KxzagcuDKN1o"
      },
      "execution_count": null,
      "outputs": []
    },
    {
      "cell_type": "markdown",
      "metadata": {
        "id": "MdWDilANMC-9"
      },
      "source": [
        "# Sample prediction"
      ]
    },
    {
      "cell_type": "code",
      "source": [
        "generate = predict(dataset, model, text='Well, God give thee the spirit of persuasion and him the ears',next_words=15)\n",
        "print(' '.join(generate))"
      ],
      "metadata": {
        "colab": {
          "base_uri": "https://localhost:8080/"
        },
        "id": "ZP_vxBupJd0D",
        "outputId": "d7ed59d9-65eb-4c91-b0b4-914cc429007e"
      },
      "execution_count": 13,
      "outputs": [
        {
          "output_type": "stream",
          "name": "stdout",
          "text": [
            "Well, God give thee the spirit of persuasion and him the ears Saint We Half when you all slave, A host, of illusions: and dinner: A experience\n"
          ]
        }
      ]
    },
    {
      "cell_type": "code",
      "source": [
        ""
      ],
      "metadata": {
        "id": "_RGFBr3Je7e_"
      },
      "execution_count": null,
      "outputs": []
    }
  ],
  "metadata": {
    "accelerator": "GPU",
    "colab": {
      "collapsed_sections": [
        "WNhdlXI7Jmwg",
        "MdWDilANMC-9"
      ],
      "name": "LSTM_pytorch.ipynb",
      "provenance": []
    },
    "gpuClass": "standard",
    "kernelspec": {
      "display_name": "Python 3",
      "name": "python3"
    },
    "language_info": {
      "name": "python"
    }
  },
  "nbformat": 4,
  "nbformat_minor": 0
}