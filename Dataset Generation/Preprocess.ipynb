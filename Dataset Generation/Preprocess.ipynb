{
  "cells": [
    {
      "cell_type": "markdown",
      "source": [
        "**In this Repository, we process the generated text data and concatenate all the data in one csv file before using it for modelling**"
      ],
      "metadata": {
        "id": "U64s-jHgqh9W"
      }
    },
    {
      "cell_type": "code",
      "source": [
        "import pandas as pd"
      ],
      "metadata": {
        "id": "imbqV2V1CMeo"
      },
      "execution_count": 4,
      "outputs": []
    },
    {
      "cell_type": "markdown",
      "source": [
        "# Preprocess Function"
      ],
      "metadata": {
        "id": "m7USH5tv-HJC"
      }
    },
    {
      "cell_type": "markdown",
      "source": [
        "In this step, all the punctuations from the text are removed. string library of Python contains some pre-defined list of punctuations such as ‘!”#$%&'()*+,-./:;?@[\\]^_`{|}~’"
      ],
      "metadata": {
        "id": "X5V0sJkk4g0j"
      }
    },
    {
      "cell_type": "code",
      "source": [
        "#library that contains punctuation\n",
        "import string\n",
        "string.punctuation"
      ],
      "metadata": {
        "colab": {
          "base_uri": "https://localhost:8080/",
          "height": 36
        },
        "id": "6ZouJAMT4eBS",
        "outputId": "190b1a5a-393a-4301-fb51-005a829df953"
      },
      "execution_count": 1,
      "outputs": [
        {
          "output_type": "execute_result",
          "data": {
            "text/plain": [
              "'!\"#$%&\\'()*+,-./:;<=>?@[\\\\]^_`{|}~'"
            ],
            "application/vnd.google.colaboratory.intrinsic+json": {
              "type": "string"
            }
          },
          "metadata": {},
          "execution_count": 1
        }
      ]
    },
    {
      "cell_type": "code",
      "source": [
        "#defining the function to remove punctuation\n",
        "import re\n",
        "def remove_punctuation(text):\n",
        "    punctuationfree=\"\".join([i for i in text if i not in string.punctuation])\n",
        "    return punctuationfree\n",
        "    \n",
        "def deEmojify(text):\n",
        "    regrex_pattern = re.compile(pattern = \"[\"\n",
        "        u\"\\U0001F600-\\U0001F64F\"  # emoticons\n",
        "        u\"\\U0001F300-\\U0001F5FF\"  # symbols & pictographs\n",
        "        u\"\\U0001F680-\\U0001F6FF\"  # transport & map symbols\n",
        "        u\"\\U0001F1E0-\\U0001F1FF\"  # flags (iOS)\n",
        "                           \"]+\", flags = re.UNICODE)\n",
        "    return regrex_pattern.sub(r'',text)\n",
        "\n",
        "\n",
        "def preprocessing(text):\n",
        "  x = re.sub(r'http\\S+', '', text) # Remove all hyperlink starts with https\n",
        "  x = remove_punctuation(x) # Remove all string punctuation\n",
        "  x = deEmojify(x) #remove emoji character\n",
        "  x = re.sub(r'[^a-zA-Z0-9]', ' ', x) # Remove all character which are not alphanumeric\n",
        "  x = x.strip('\\n') #Removes white space in the start and end of the text\n",
        "  x = x.replace('\\n','') # Removes any multiple white space in the document to single white space\n",
        "  x = x.lower() # lowers the text\n",
        "  x = \" \".join(x.split()) # split each word and concatenate into a list\n",
        "  \n",
        "  return x\n",
        "         "
      ],
      "metadata": {
        "id": "ukUOAMlQLJHH"
      },
      "execution_count": 2,
      "outputs": []
    },
    {
      "cell_type": "markdown",
      "source": [
        "# GPT2 json"
      ],
      "metadata": {
        "id": "d22RzTsx1-B2"
      }
    },
    {
      "cell_type": "code",
      "source": [
        "# Reading a GPT2 json file\n",
        "df1 = pd.read_json('GPT2shakespeare.json')"
      ],
      "metadata": {
        "id": "_SNrFFDRxRrt"
      },
      "execution_count": null,
      "outputs": []
    },
    {
      "cell_type": "code",
      "source": [
        "#df1['clean_msg']= df1['text'].apply(lambda x:preprocessing(x))\n",
        "df1['clean_msg']= df1['text'].apply(preprocessing)\n",
        "df1.head()"
      ],
      "metadata": {
        "colab": {
          "base_uri": "https://localhost:8080/",
          "height": 206
        },
        "id": "5c97uCkI2Ayc",
        "outputId": "2b10af14-d146-442b-f06d-96f45c215d45"
      },
      "execution_count": null,
      "outputs": [
        {
          "output_type": "execute_result",
          "data": {
            "text/plain": [
              "                                                text Label  \\\n",
              "0   and I will live all my life in a state of mou...  GPT2   \n",
              "1   When you're in a game, you don't have to worr...  GPT2   \n",
              "2   This is the only scenario where he's had any ...  GPT2   \n",
              "3   but it was enough, for I had already seen it....  GPT2   \n",
              "4   He would have a good deal of money to spend o...  GPT2   \n",
              "\n",
              "                                           clean_msg  \n",
              "0   and I will live all my life in a state of mou...  \n",
              "1   When youre in a game you dont have to worry a...  \n",
              "2   This is the only scenario where hes had any s...  \n",
              "3   but it was enough for I had already seen it A...  \n",
              "4   He would have a good deal of money to spend o...  "
            ],
            "text/html": [
              "\n",
              "  <div id=\"df-a0d71cf4-9ee6-4b08-8dae-6c5252f10cbe\">\n",
              "    <div class=\"colab-df-container\">\n",
              "      <div>\n",
              "<style scoped>\n",
              "    .dataframe tbody tr th:only-of-type {\n",
              "        vertical-align: middle;\n",
              "    }\n",
              "\n",
              "    .dataframe tbody tr th {\n",
              "        vertical-align: top;\n",
              "    }\n",
              "\n",
              "    .dataframe thead th {\n",
              "        text-align: right;\n",
              "    }\n",
              "</style>\n",
              "<table border=\"1\" class=\"dataframe\">\n",
              "  <thead>\n",
              "    <tr style=\"text-align: right;\">\n",
              "      <th></th>\n",
              "      <th>text</th>\n",
              "      <th>Label</th>\n",
              "      <th>clean_msg</th>\n",
              "    </tr>\n",
              "  </thead>\n",
              "  <tbody>\n",
              "    <tr>\n",
              "      <th>0</th>\n",
              "      <td>and I will live all my life in a state of mou...</td>\n",
              "      <td>GPT2</td>\n",
              "      <td>and I will live all my life in a state of mou...</td>\n",
              "    </tr>\n",
              "    <tr>\n",
              "      <th>1</th>\n",
              "      <td>When you're in a game, you don't have to worr...</td>\n",
              "      <td>GPT2</td>\n",
              "      <td>When youre in a game you dont have to worry a...</td>\n",
              "    </tr>\n",
              "    <tr>\n",
              "      <th>2</th>\n",
              "      <td>This is the only scenario where he's had any ...</td>\n",
              "      <td>GPT2</td>\n",
              "      <td>This is the only scenario where hes had any s...</td>\n",
              "    </tr>\n",
              "    <tr>\n",
              "      <th>3</th>\n",
              "      <td>but it was enough, for I had already seen it....</td>\n",
              "      <td>GPT2</td>\n",
              "      <td>but it was enough for I had already seen it A...</td>\n",
              "    </tr>\n",
              "    <tr>\n",
              "      <th>4</th>\n",
              "      <td>He would have a good deal of money to spend o...</td>\n",
              "      <td>GPT2</td>\n",
              "      <td>He would have a good deal of money to spend o...</td>\n",
              "    </tr>\n",
              "  </tbody>\n",
              "</table>\n",
              "</div>\n",
              "      <button class=\"colab-df-convert\" onclick=\"convertToInteractive('df-a0d71cf4-9ee6-4b08-8dae-6c5252f10cbe')\"\n",
              "              title=\"Convert this dataframe to an interactive table.\"\n",
              "              style=\"display:none;\">\n",
              "        \n",
              "  <svg xmlns=\"http://www.w3.org/2000/svg\" height=\"24px\"viewBox=\"0 0 24 24\"\n",
              "       width=\"24px\">\n",
              "    <path d=\"M0 0h24v24H0V0z\" fill=\"none\"/>\n",
              "    <path d=\"M18.56 5.44l.94 2.06.94-2.06 2.06-.94-2.06-.94-.94-2.06-.94 2.06-2.06.94zm-11 1L8.5 8.5l.94-2.06 2.06-.94-2.06-.94L8.5 2.5l-.94 2.06-2.06.94zm10 10l.94 2.06.94-2.06 2.06-.94-2.06-.94-.94-2.06-.94 2.06-2.06.94z\"/><path d=\"M17.41 7.96l-1.37-1.37c-.4-.4-.92-.59-1.43-.59-.52 0-1.04.2-1.43.59L10.3 9.45l-7.72 7.72c-.78.78-.78 2.05 0 2.83L4 21.41c.39.39.9.59 1.41.59.51 0 1.02-.2 1.41-.59l7.78-7.78 2.81-2.81c.8-.78.8-2.07 0-2.86zM5.41 20L4 18.59l7.72-7.72 1.47 1.35L5.41 20z\"/>\n",
              "  </svg>\n",
              "      </button>\n",
              "      \n",
              "  <style>\n",
              "    .colab-df-container {\n",
              "      display:flex;\n",
              "      flex-wrap:wrap;\n",
              "      gap: 12px;\n",
              "    }\n",
              "\n",
              "    .colab-df-convert {\n",
              "      background-color: #E8F0FE;\n",
              "      border: none;\n",
              "      border-radius: 50%;\n",
              "      cursor: pointer;\n",
              "      display: none;\n",
              "      fill: #1967D2;\n",
              "      height: 32px;\n",
              "      padding: 0 0 0 0;\n",
              "      width: 32px;\n",
              "    }\n",
              "\n",
              "    .colab-df-convert:hover {\n",
              "      background-color: #E2EBFA;\n",
              "      box-shadow: 0px 1px 2px rgba(60, 64, 67, 0.3), 0px 1px 3px 1px rgba(60, 64, 67, 0.15);\n",
              "      fill: #174EA6;\n",
              "    }\n",
              "\n",
              "    [theme=dark] .colab-df-convert {\n",
              "      background-color: #3B4455;\n",
              "      fill: #D2E3FC;\n",
              "    }\n",
              "\n",
              "    [theme=dark] .colab-df-convert:hover {\n",
              "      background-color: #434B5C;\n",
              "      box-shadow: 0px 1px 3px 1px rgba(0, 0, 0, 0.15);\n",
              "      filter: drop-shadow(0px 1px 2px rgba(0, 0, 0, 0.3));\n",
              "      fill: #FFFFFF;\n",
              "    }\n",
              "  </style>\n",
              "\n",
              "      <script>\n",
              "        const buttonEl =\n",
              "          document.querySelector('#df-a0d71cf4-9ee6-4b08-8dae-6c5252f10cbe button.colab-df-convert');\n",
              "        buttonEl.style.display =\n",
              "          google.colab.kernel.accessAllowed ? 'block' : 'none';\n",
              "\n",
              "        async function convertToInteractive(key) {\n",
              "          const element = document.querySelector('#df-a0d71cf4-9ee6-4b08-8dae-6c5252f10cbe');\n",
              "          const dataTable =\n",
              "            await google.colab.kernel.invokeFunction('convertToInteractive',\n",
              "                                                     [key], {});\n",
              "          if (!dataTable) return;\n",
              "\n",
              "          const docLinkHtml = 'Like what you see? Visit the ' +\n",
              "            '<a target=\"_blank\" href=https://colab.research.google.com/notebooks/data_table.ipynb>data table notebook</a>'\n",
              "            + ' to learn more about interactive tables.';\n",
              "          element.innerHTML = '';\n",
              "          dataTable['output_type'] = 'display_data';\n",
              "          await google.colab.output.renderOutput(dataTable, element);\n",
              "          const docLink = document.createElement('div');\n",
              "          docLink.innerHTML = docLinkHtml;\n",
              "          element.appendChild(docLink);\n",
              "        }\n",
              "      </script>\n",
              "    </div>\n",
              "  </div>\n",
              "  "
            ]
          },
          "metadata": {},
          "execution_count": 36
        }
      ]
    },
    {
      "cell_type": "code",
      "source": [
        "# change column posistion\n",
        "df1 = df1.reindex(columns = ['clean_msg','Label','text'])\n",
        "# Dropping uncleaned text column\n",
        "df_gpt2 = df1.drop('text', axis=1)"
      ],
      "metadata": {
        "id": "QcrBmyDo6Enf"
      },
      "execution_count": null,
      "outputs": []
    },
    {
      "cell_type": "code",
      "source": [
        "#converting to a CSV file\n",
        "df_gpt2.to_csv('GPT2shakespeare.csv', index = False, encoding='utf-8') # False: not include index"
      ],
      "metadata": {
        "id": "ncLTR8h97RaF"
      },
      "execution_count": null,
      "outputs": []
    },
    {
      "cell_type": "markdown",
      "source": [
        "# GPT_neo"
      ],
      "metadata": {
        "id": "JfbJmpZS-z2E"
      }
    },
    {
      "cell_type": "code",
      "source": [
        "# reading GPT neo json file\n",
        "df2 = pd.read_json('GPT_neo_jokes.json')\n",
        "df2"
      ],
      "metadata": {
        "colab": {
          "base_uri": "https://localhost:8080/",
          "height": 424
        },
        "id": "2eX8uqN-9GUD",
        "outputId": "d31cb4b5-becf-4f9b-e553-172e571b8893"
      },
      "execution_count": null,
      "outputs": [
        {
          "output_type": "execute_result",
          "data": {
            "text/plain": [
              "                                                  text   Label\n",
              "0     but I ask you, how shall I ever know?\\n\\nHow ...  GPTNeo\n",
              "1     to the scene by a team of experts. With their...  GPTNeo\n",
              "2     never go to war,” she said.\\n\\n“I don’t think...  GPTNeo\n",
              "3     a 'honest man'. I'm here to tell you that for...  GPTNeo\n",
              "4    \\n   That they could not stand in their way, w...  GPTNeo\n",
              "..                                                 ...     ...\n",
              "495  , we should do the same. In the first place, h...  GPTNeo\n",
              "496  , I can't sleep.\\n\\n– I'm going to see the gir...  GPTNeo\n",
              "497  \\n\\n\"I can't tell you how much I want to drink...  GPTNeo\n",
              "498   love for the moment was made to be. The searc...  GPTNeo\n",
              "499   and the world is\\nshaken, the sun is in the s...  GPTNeo\n",
              "\n",
              "[500 rows x 2 columns]"
            ],
            "text/html": [
              "\n",
              "  <div id=\"df-4bc7a35e-9fd8-4ae7-a2b8-44922821296d\">\n",
              "    <div class=\"colab-df-container\">\n",
              "      <div>\n",
              "<style scoped>\n",
              "    .dataframe tbody tr th:only-of-type {\n",
              "        vertical-align: middle;\n",
              "    }\n",
              "\n",
              "    .dataframe tbody tr th {\n",
              "        vertical-align: top;\n",
              "    }\n",
              "\n",
              "    .dataframe thead th {\n",
              "        text-align: right;\n",
              "    }\n",
              "</style>\n",
              "<table border=\"1\" class=\"dataframe\">\n",
              "  <thead>\n",
              "    <tr style=\"text-align: right;\">\n",
              "      <th></th>\n",
              "      <th>text</th>\n",
              "      <th>Label</th>\n",
              "    </tr>\n",
              "  </thead>\n",
              "  <tbody>\n",
              "    <tr>\n",
              "      <th>0</th>\n",
              "      <td>but I ask you, how shall I ever know?\\n\\nHow ...</td>\n",
              "      <td>GPTNeo</td>\n",
              "    </tr>\n",
              "    <tr>\n",
              "      <th>1</th>\n",
              "      <td>to the scene by a team of experts. With their...</td>\n",
              "      <td>GPTNeo</td>\n",
              "    </tr>\n",
              "    <tr>\n",
              "      <th>2</th>\n",
              "      <td>never go to war,” she said.\\n\\n“I don’t think...</td>\n",
              "      <td>GPTNeo</td>\n",
              "    </tr>\n",
              "    <tr>\n",
              "      <th>3</th>\n",
              "      <td>a 'honest man'. I'm here to tell you that for...</td>\n",
              "      <td>GPTNeo</td>\n",
              "    </tr>\n",
              "    <tr>\n",
              "      <th>4</th>\n",
              "      <td>\\n   That they could not stand in their way, w...</td>\n",
              "      <td>GPTNeo</td>\n",
              "    </tr>\n",
              "    <tr>\n",
              "      <th>...</th>\n",
              "      <td>...</td>\n",
              "      <td>...</td>\n",
              "    </tr>\n",
              "    <tr>\n",
              "      <th>495</th>\n",
              "      <td>, we should do the same. In the first place, h...</td>\n",
              "      <td>GPTNeo</td>\n",
              "    </tr>\n",
              "    <tr>\n",
              "      <th>496</th>\n",
              "      <td>, I can't sleep.\\n\\n– I'm going to see the gir...</td>\n",
              "      <td>GPTNeo</td>\n",
              "    </tr>\n",
              "    <tr>\n",
              "      <th>497</th>\n",
              "      <td>\\n\\n\"I can't tell you how much I want to drink...</td>\n",
              "      <td>GPTNeo</td>\n",
              "    </tr>\n",
              "    <tr>\n",
              "      <th>498</th>\n",
              "      <td>love for the moment was made to be. The searc...</td>\n",
              "      <td>GPTNeo</td>\n",
              "    </tr>\n",
              "    <tr>\n",
              "      <th>499</th>\n",
              "      <td>and the world is\\nshaken, the sun is in the s...</td>\n",
              "      <td>GPTNeo</td>\n",
              "    </tr>\n",
              "  </tbody>\n",
              "</table>\n",
              "<p>500 rows × 2 columns</p>\n",
              "</div>\n",
              "      <button class=\"colab-df-convert\" onclick=\"convertToInteractive('df-4bc7a35e-9fd8-4ae7-a2b8-44922821296d')\"\n",
              "              title=\"Convert this dataframe to an interactive table.\"\n",
              "              style=\"display:none;\">\n",
              "        \n",
              "  <svg xmlns=\"http://www.w3.org/2000/svg\" height=\"24px\"viewBox=\"0 0 24 24\"\n",
              "       width=\"24px\">\n",
              "    <path d=\"M0 0h24v24H0V0z\" fill=\"none\"/>\n",
              "    <path d=\"M18.56 5.44l.94 2.06.94-2.06 2.06-.94-2.06-.94-.94-2.06-.94 2.06-2.06.94zm-11 1L8.5 8.5l.94-2.06 2.06-.94-2.06-.94L8.5 2.5l-.94 2.06-2.06.94zm10 10l.94 2.06.94-2.06 2.06-.94-2.06-.94-.94-2.06-.94 2.06-2.06.94z\"/><path d=\"M17.41 7.96l-1.37-1.37c-.4-.4-.92-.59-1.43-.59-.52 0-1.04.2-1.43.59L10.3 9.45l-7.72 7.72c-.78.78-.78 2.05 0 2.83L4 21.41c.39.39.9.59 1.41.59.51 0 1.02-.2 1.41-.59l7.78-7.78 2.81-2.81c.8-.78.8-2.07 0-2.86zM5.41 20L4 18.59l7.72-7.72 1.47 1.35L5.41 20z\"/>\n",
              "  </svg>\n",
              "      </button>\n",
              "      \n",
              "  <style>\n",
              "    .colab-df-container {\n",
              "      display:flex;\n",
              "      flex-wrap:wrap;\n",
              "      gap: 12px;\n",
              "    }\n",
              "\n",
              "    .colab-df-convert {\n",
              "      background-color: #E8F0FE;\n",
              "      border: none;\n",
              "      border-radius: 50%;\n",
              "      cursor: pointer;\n",
              "      display: none;\n",
              "      fill: #1967D2;\n",
              "      height: 32px;\n",
              "      padding: 0 0 0 0;\n",
              "      width: 32px;\n",
              "    }\n",
              "\n",
              "    .colab-df-convert:hover {\n",
              "      background-color: #E2EBFA;\n",
              "      box-shadow: 0px 1px 2px rgba(60, 64, 67, 0.3), 0px 1px 3px 1px rgba(60, 64, 67, 0.15);\n",
              "      fill: #174EA6;\n",
              "    }\n",
              "\n",
              "    [theme=dark] .colab-df-convert {\n",
              "      background-color: #3B4455;\n",
              "      fill: #D2E3FC;\n",
              "    }\n",
              "\n",
              "    [theme=dark] .colab-df-convert:hover {\n",
              "      background-color: #434B5C;\n",
              "      box-shadow: 0px 1px 3px 1px rgba(0, 0, 0, 0.15);\n",
              "      filter: drop-shadow(0px 1px 2px rgba(0, 0, 0, 0.3));\n",
              "      fill: #FFFFFF;\n",
              "    }\n",
              "  </style>\n",
              "\n",
              "      <script>\n",
              "        const buttonEl =\n",
              "          document.querySelector('#df-4bc7a35e-9fd8-4ae7-a2b8-44922821296d button.colab-df-convert');\n",
              "        buttonEl.style.display =\n",
              "          google.colab.kernel.accessAllowed ? 'block' : 'none';\n",
              "\n",
              "        async function convertToInteractive(key) {\n",
              "          const element = document.querySelector('#df-4bc7a35e-9fd8-4ae7-a2b8-44922821296d');\n",
              "          const dataTable =\n",
              "            await google.colab.kernel.invokeFunction('convertToInteractive',\n",
              "                                                     [key], {});\n",
              "          if (!dataTable) return;\n",
              "\n",
              "          const docLinkHtml = 'Like what you see? Visit the ' +\n",
              "            '<a target=\"_blank\" href=https://colab.research.google.com/notebooks/data_table.ipynb>data table notebook</a>'\n",
              "            + ' to learn more about interactive tables.';\n",
              "          element.innerHTML = '';\n",
              "          dataTable['output_type'] = 'display_data';\n",
              "          await google.colab.output.renderOutput(dataTable, element);\n",
              "          const docLink = document.createElement('div');\n",
              "          docLink.innerHTML = docLinkHtml;\n",
              "          element.appendChild(docLink);\n",
              "        }\n",
              "      </script>\n",
              "    </div>\n",
              "  </div>\n",
              "  "
            ]
          },
          "metadata": {},
          "execution_count": 101
        }
      ]
    },
    {
      "cell_type": "code",
      "source": [
        "#storing the puntuation free text\n",
        "#df2['clean_msg']= df2['text'].apply(lambda x: preprocessing(x))\n",
        "df2['clean_msg']= df2['text'].apply(preprocessing)\n",
        "df2.head()\n"
      ],
      "metadata": {
        "colab": {
          "base_uri": "https://localhost:8080/",
          "height": 206
        },
        "id": "OwAQU25Z-7vl",
        "outputId": "d9fa728b-73d0-4cdb-ab7a-9815a350022d"
      },
      "execution_count": null,
      "outputs": [
        {
          "output_type": "execute_result",
          "data": {
            "text/plain": [
              "                                                text   Label  \\\n",
              "0   but I ask you, how shall I ever know?\\n\\nHow ...  GPTNeo   \n",
              "1   to the scene by a team of experts. With their...  GPTNeo   \n",
              "2   never go to war,” she said.\\n\\n“I don’t think...  GPTNeo   \n",
              "3   a 'honest man'. I'm here to tell you that for...  GPTNeo   \n",
              "4  \\n   That they could not stand in their way, w...  GPTNeo   \n",
              "\n",
              "                                           clean_msg  \n",
              "0  but i ask you how shall i ever know how can i ...  \n",
              "1  to the scene by a team of experts with their o...  \n",
              "2  never go to war she said i don t think he had ...  \n",
              "3  a honest man im here to tell you that for the ...  \n",
              "4  that they could not stand in their way were th...  "
            ],
            "text/html": [
              "\n",
              "  <div id=\"df-e058f07e-f7e1-48ea-b640-f6f2341ba492\">\n",
              "    <div class=\"colab-df-container\">\n",
              "      <div>\n",
              "<style scoped>\n",
              "    .dataframe tbody tr th:only-of-type {\n",
              "        vertical-align: middle;\n",
              "    }\n",
              "\n",
              "    .dataframe tbody tr th {\n",
              "        vertical-align: top;\n",
              "    }\n",
              "\n",
              "    .dataframe thead th {\n",
              "        text-align: right;\n",
              "    }\n",
              "</style>\n",
              "<table border=\"1\" class=\"dataframe\">\n",
              "  <thead>\n",
              "    <tr style=\"text-align: right;\">\n",
              "      <th></th>\n",
              "      <th>text</th>\n",
              "      <th>Label</th>\n",
              "      <th>clean_msg</th>\n",
              "    </tr>\n",
              "  </thead>\n",
              "  <tbody>\n",
              "    <tr>\n",
              "      <th>0</th>\n",
              "      <td>but I ask you, how shall I ever know?\\n\\nHow ...</td>\n",
              "      <td>GPTNeo</td>\n",
              "      <td>but i ask you how shall i ever know how can i ...</td>\n",
              "    </tr>\n",
              "    <tr>\n",
              "      <th>1</th>\n",
              "      <td>to the scene by a team of experts. With their...</td>\n",
              "      <td>GPTNeo</td>\n",
              "      <td>to the scene by a team of experts with their o...</td>\n",
              "    </tr>\n",
              "    <tr>\n",
              "      <th>2</th>\n",
              "      <td>never go to war,” she said.\\n\\n“I don’t think...</td>\n",
              "      <td>GPTNeo</td>\n",
              "      <td>never go to war she said i don t think he had ...</td>\n",
              "    </tr>\n",
              "    <tr>\n",
              "      <th>3</th>\n",
              "      <td>a 'honest man'. I'm here to tell you that for...</td>\n",
              "      <td>GPTNeo</td>\n",
              "      <td>a honest man im here to tell you that for the ...</td>\n",
              "    </tr>\n",
              "    <tr>\n",
              "      <th>4</th>\n",
              "      <td>\\n   That they could not stand in their way, w...</td>\n",
              "      <td>GPTNeo</td>\n",
              "      <td>that they could not stand in their way were th...</td>\n",
              "    </tr>\n",
              "  </tbody>\n",
              "</table>\n",
              "</div>\n",
              "      <button class=\"colab-df-convert\" onclick=\"convertToInteractive('df-e058f07e-f7e1-48ea-b640-f6f2341ba492')\"\n",
              "              title=\"Convert this dataframe to an interactive table.\"\n",
              "              style=\"display:none;\">\n",
              "        \n",
              "  <svg xmlns=\"http://www.w3.org/2000/svg\" height=\"24px\"viewBox=\"0 0 24 24\"\n",
              "       width=\"24px\">\n",
              "    <path d=\"M0 0h24v24H0V0z\" fill=\"none\"/>\n",
              "    <path d=\"M18.56 5.44l.94 2.06.94-2.06 2.06-.94-2.06-.94-.94-2.06-.94 2.06-2.06.94zm-11 1L8.5 8.5l.94-2.06 2.06-.94-2.06-.94L8.5 2.5l-.94 2.06-2.06.94zm10 10l.94 2.06.94-2.06 2.06-.94-2.06-.94-.94-2.06-.94 2.06-2.06.94z\"/><path d=\"M17.41 7.96l-1.37-1.37c-.4-.4-.92-.59-1.43-.59-.52 0-1.04.2-1.43.59L10.3 9.45l-7.72 7.72c-.78.78-.78 2.05 0 2.83L4 21.41c.39.39.9.59 1.41.59.51 0 1.02-.2 1.41-.59l7.78-7.78 2.81-2.81c.8-.78.8-2.07 0-2.86zM5.41 20L4 18.59l7.72-7.72 1.47 1.35L5.41 20z\"/>\n",
              "  </svg>\n",
              "      </button>\n",
              "      \n",
              "  <style>\n",
              "    .colab-df-container {\n",
              "      display:flex;\n",
              "      flex-wrap:wrap;\n",
              "      gap: 12px;\n",
              "    }\n",
              "\n",
              "    .colab-df-convert {\n",
              "      background-color: #E8F0FE;\n",
              "      border: none;\n",
              "      border-radius: 50%;\n",
              "      cursor: pointer;\n",
              "      display: none;\n",
              "      fill: #1967D2;\n",
              "      height: 32px;\n",
              "      padding: 0 0 0 0;\n",
              "      width: 32px;\n",
              "    }\n",
              "\n",
              "    .colab-df-convert:hover {\n",
              "      background-color: #E2EBFA;\n",
              "      box-shadow: 0px 1px 2px rgba(60, 64, 67, 0.3), 0px 1px 3px 1px rgba(60, 64, 67, 0.15);\n",
              "      fill: #174EA6;\n",
              "    }\n",
              "\n",
              "    [theme=dark] .colab-df-convert {\n",
              "      background-color: #3B4455;\n",
              "      fill: #D2E3FC;\n",
              "    }\n",
              "\n",
              "    [theme=dark] .colab-df-convert:hover {\n",
              "      background-color: #434B5C;\n",
              "      box-shadow: 0px 1px 3px 1px rgba(0, 0, 0, 0.15);\n",
              "      filter: drop-shadow(0px 1px 2px rgba(0, 0, 0, 0.3));\n",
              "      fill: #FFFFFF;\n",
              "    }\n",
              "  </style>\n",
              "\n",
              "      <script>\n",
              "        const buttonEl =\n",
              "          document.querySelector('#df-e058f07e-f7e1-48ea-b640-f6f2341ba492 button.colab-df-convert');\n",
              "        buttonEl.style.display =\n",
              "          google.colab.kernel.accessAllowed ? 'block' : 'none';\n",
              "\n",
              "        async function convertToInteractive(key) {\n",
              "          const element = document.querySelector('#df-e058f07e-f7e1-48ea-b640-f6f2341ba492');\n",
              "          const dataTable =\n",
              "            await google.colab.kernel.invokeFunction('convertToInteractive',\n",
              "                                                     [key], {});\n",
              "          if (!dataTable) return;\n",
              "\n",
              "          const docLinkHtml = 'Like what you see? Visit the ' +\n",
              "            '<a target=\"_blank\" href=https://colab.research.google.com/notebooks/data_table.ipynb>data table notebook</a>'\n",
              "            + ' to learn more about interactive tables.';\n",
              "          element.innerHTML = '';\n",
              "          dataTable['output_type'] = 'display_data';\n",
              "          await google.colab.output.renderOutput(dataTable, element);\n",
              "          const docLink = document.createElement('div');\n",
              "          docLink.innerHTML = docLinkHtml;\n",
              "          element.appendChild(docLink);\n",
              "        }\n",
              "      </script>\n",
              "    </div>\n",
              "  </div>\n",
              "  "
            ]
          },
          "metadata": {},
          "execution_count": 104
        }
      ]
    },
    {
      "cell_type": "code",
      "source": [
        "# change column posistion\n",
        "df2 = df2.reindex(columns = ['clean_msg','Label','text'])\n",
        "# Dropping uncleaned text column\n",
        "df_gptneo = df2.drop('text', axis=1)"
      ],
      "metadata": {
        "id": "4czsVJ8t_q_k"
      },
      "execution_count": null,
      "outputs": []
    },
    {
      "cell_type": "code",
      "source": [
        "# converting to csv file\n",
        "df_gptneo.to_csv('GPT2_neo_shakespeare.csv', index = False, encoding='utf-8')"
      ],
      "metadata": {
        "id": "CX6koBdVUwtX"
      },
      "execution_count": null,
      "outputs": []
    },
    {
      "cell_type": "markdown",
      "metadata": {
        "id": "WfoI8ytuz1rZ"
      },
      "source": [
        "# LSTM"
      ]
    },
    {
      "cell_type": "code",
      "source": [
        "df_lstm = pd.read_csv('LSTM_Generation.csv')\n",
        "df_lstm"
      ],
      "metadata": {
        "id": "ZLMWodPlB8vW"
      },
      "execution_count": null,
      "outputs": []
    },
    {
      "cell_type": "code",
      "source": [
        "# aplly preprocessing function\n",
        "df_lstm['Text'] = df_lstm['text'].apply(preprocessing)\n",
        "# label the text as LSTM\n",
        "df_lstm = df_lstm.assign(Label = 'LSTM')\n",
        "# drop the uncleaned text\n",
        "df_lstm.drop(columns=['text'], axis=1, inplace=True)"
      ],
      "metadata": {
        "id": "oa0Vy04sB8oN"
      },
      "execution_count": 6,
      "outputs": []
    },
    {
      "cell_type": "code",
      "source": [
        "#example text\n",
        "df_lstm['Text'][3]"
      ],
      "metadata": {
        "colab": {
          "base_uri": "https://localhost:8080/",
          "height": 140
        },
        "id": "cd7AoIOwAIJ_",
        "outputId": "a4270a3a-8ab0-4548-925b-0d4a578def61"
      },
      "execution_count": 11,
      "outputs": [
        {
          "output_type": "execute_result",
          "data": {
            "text/plain": [
              "'which thou hast often heard of and it is known to many in our land by the name of pitch this pitch as ancient writers do report doth defile so doth the company thou keepest for harry now i do not speak to thee in drink but in tears not in pleasure but in passion not in words only but in woes also and yet there is a virtuous man whom i have often noted in thy company but i know not his name what manner of man an it like your majesty a goodly portly man i faith and a corpulent of a cheerful look a pleasing eye and a most noble carriage and as i think his age some fifty or byr lady inclining to three score and now i remember me his name is falstaff if that man should be lewdly given he deceiveth me for harry i see virtue in his looks if then the tree may be known by the fruit as the fruit by the tree then peremptorily i speak it there is virtue in that falstaff him keep with the rest banish and tell me now thou naughty varlet tell me where hast thou been this month dost thou speak like a king do thou stand for me and ill play my father depose me if thou dost it half so gravely so majestically both in word and matter hang me up by the heels for a rabbitsucker or a poulters hare well here i am set and here i stand judge my masters now harry whence come you my noble lord from eastcheap the complaints i hear of thee are grievous sblood my lord they are false nay ill tickle ye for a young prince i faith swearest thou ungracious boy henceforth neer look on me thou art violently carried away from grace there is a devil haunts thee in the likeness of an old fat man a tun of man is thy companion why dost thou converse with that trunk of humours that boltinghutch of beastliness that swollen parcel of dropsies that huge bombard of sack that stuffed cloakbag of guts that roasted manningtree ox with the pudding in his belly that reverend vice that grey iniquity that father ruffian that vanity in years wherein is he good but to taste sack and drink it wherein neat and cleanly but to carve a capon and eat it wherein cunning but in craft wherein crafty but in villany wherein villanous but in all things wherein worthy but in nothing i would your grace would take me with you whom means your grace jewels wherein strange it desire that you care himself lions what lady with this thing i not gone well how greet you came in the devil when theres some truth on their talkest the devil of acquaintance threw to help but comes you seek things marry you send it suffer i think and dear services drive all success for swords as sir you hangs you the good instruments and abuses at cominius officers what wouldst have me mad quit it to no holp upon thy passages to acquaint it proceed good money do the grace hes envying me for what nor lend it confounds my sensible my mortimer straight art you were in but ill fair you as tonight o lord was woe as the afternoon is heavy out of a wifebut you durst ask them tis i help away we am where coventry i calls anon a assails prithee recreation accused with my knave there were an fight if thou form stir for where is her will and falling be cruel gone i think are to ourselves with epidamnum already i do draw you your flock whereby they here they stays as well but it my did call you within no may for your little in a archibald there did thou abandoned today ill justice than an inward bound that angry would titus already thou mightst be marrd i pray our love at humours with less i his knave and youth and reasons together why the date of the person dispatch never discharge at mutual which and they to learn it no house to choose from him holy lived what take me and yours that lawful returned that when do return when you be much sir an charge thou were plumed as much to be accounted thrown and lead him well were because at our golden orator enter luciana one on the band and all right sure to rail and he scurvy gentleman that got you i bear her hope tis not waylaid you on what bind themselves to him come exit what like the desk charles hinder yards in help top with france i am these chain then too no thou brought in injury so for this robin brought that none let this restraind that now receive a rabble are him my duke in hope that rash item on behind a quiddities but dear thousand in in her other slave this should he stays and have nothing wonderd junius jack the word of this forehead and mine father was i go and hark it and thou dost well to not rakes in candle with the tooth but is in the so as i saw me next that prove me certainties i know the whit want doctor shall hold ye what vows denied our man of the garners camp as he down but out his deadlooking culverin you hope thou art sighd them in the flying friend nor obtaining on speakit farewell proud then sir are not plotted did'"
            ],
            "application/vnd.google.colaboratory.intrinsic+json": {
              "type": "string"
            }
          },
          "metadata": {},
          "execution_count": 11
        }
      ]
    },
    {
      "cell_type": "code",
      "source": [
        "# convert to csv file\n",
        "df_lstm.to_csv('Lstm.csv',index=False)"
      ],
      "metadata": {
        "id": "As0vIvPHConQ"
      },
      "execution_count": 12,
      "outputs": []
    },
    {
      "cell_type": "markdown",
      "source": [
        "# Data concatenation"
      ],
      "metadata": {
        "id": "Gp0IA0QPDXDx"
      }
    },
    {
      "cell_type": "code",
      "source": [
        "# Read all files\n",
        "df_human = pd.read_csv('/content/human_Shakespeare.csv')\n",
        "df_gpt2 = pd.read_csv('/content/GPT2shakespeare.csv')\n",
        "df_gptneo = pd.read_csv('/content/GPT2_neo_shakespeare.csv')\n",
        "df_lstm = pd.read_csv('/content/Lstm.csv')"
      ],
      "metadata": {
        "id": "emzu6DPADYlD"
      },
      "execution_count": 13,
      "outputs": []
    },
    {
      "cell_type": "code",
      "source": [
        "# rename content column into common word text for concatenation\n",
        "df_gpt2.rename(columns={'clean_msg':\"text\"},inplace=True)\n",
        "df_gptneo.rename(columns={'clean_msg':\"text\"},inplace=True)\n",
        "df_lstm.rename(columns={'Text':\"text\"},inplace=True)\n",
        "# Concatenate all 4 files\n",
        "Dataset = pd.concat([df_human,df_lstm,df_gpt2,df_gptneo],axis=0)"
      ],
      "metadata": {
        "id": "NvOUEDFJDcp1"
      },
      "execution_count": 14,
      "outputs": []
    },
    {
      "cell_type": "code",
      "source": [
        "# shuffle the file\n",
        "Dataset= Dataset.sample(frac=1).reset_index(drop=True)"
      ],
      "metadata": {
        "id": "7NC4USZSD1PI"
      },
      "execution_count": 15,
      "outputs": []
    },
    {
      "cell_type": "code",
      "source": [
        "# convert the columns into separate text file which is the required format in textGCN model\n",
        "Dataset['text'].to_csv(r'humanAI_sentence.txt', header=None, index=None)\n",
        "Dataset['Label'].to_csv(r'humanAI.txt', header=None, index=None)"
      ],
      "metadata": {
        "id": "Mhd4giQPDce0"
      },
      "execution_count": 17,
      "outputs": []
    },
    {
      "cell_type": "code",
      "source": [
        "# save as CSV format\n",
        "Dataset.to_csv('humanvsAI.csv',index=False)"
      ],
      "metadata": {
        "id": "yycdTiUXD6LA"
      },
      "execution_count": 18,
      "outputs": []
    },
    {
      "cell_type": "code",
      "source": [
        "Dataset"
      ],
      "metadata": {
        "colab": {
          "base_uri": "https://localhost:8080/",
          "height": 424
        },
        "id": "L19mK4pBBPKQ",
        "outputId": "de0a56af-e5bd-46f1-fed8-03db06da8cb3"
      },
      "execution_count": 16,
      "outputs": [
        {
          "output_type": "execute_result",
          "data": {
            "text/plain": [
              "                                                   text   Label\n",
              "0     And yet methinks your grace hath not done well...   Human\n",
              "1     exeunt prince henry and lancaster ill follow a...    LSTM\n",
              "2      cause i could not give up but i was too tired...    GPT2\n",
              "3     her hair i dont know said the old lady but i h...  GPTNeo\n",
              "4     in the alfred of the keeper is a man of great ...  GPTNeo\n",
              "...                                                 ...     ...\n",
              "1995  the first thing i want to do is to get you out...  GPTNeo\n",
              "1996  i am here the way the whole world is looking a...  GPTNeo\n",
              "1997  and all in the night even the moonlight and al...  GPTNeo\n",
              "1998  Time was, I did him a desired office, Dear alm...   Human\n",
              "1999  and breed a kind of question in our cause for ...    LSTM\n",
              "\n",
              "[2000 rows x 2 columns]"
            ],
            "text/html": [
              "\n",
              "  <div id=\"df-704c280a-57d3-4b8f-b7d5-b4a037119a9a\">\n",
              "    <div class=\"colab-df-container\">\n",
              "      <div>\n",
              "<style scoped>\n",
              "    .dataframe tbody tr th:only-of-type {\n",
              "        vertical-align: middle;\n",
              "    }\n",
              "\n",
              "    .dataframe tbody tr th {\n",
              "        vertical-align: top;\n",
              "    }\n",
              "\n",
              "    .dataframe thead th {\n",
              "        text-align: right;\n",
              "    }\n",
              "</style>\n",
              "<table border=\"1\" class=\"dataframe\">\n",
              "  <thead>\n",
              "    <tr style=\"text-align: right;\">\n",
              "      <th></th>\n",
              "      <th>text</th>\n",
              "      <th>Label</th>\n",
              "    </tr>\n",
              "  </thead>\n",
              "  <tbody>\n",
              "    <tr>\n",
              "      <th>0</th>\n",
              "      <td>And yet methinks your grace hath not done well...</td>\n",
              "      <td>Human</td>\n",
              "    </tr>\n",
              "    <tr>\n",
              "      <th>1</th>\n",
              "      <td>exeunt prince henry and lancaster ill follow a...</td>\n",
              "      <td>LSTM</td>\n",
              "    </tr>\n",
              "    <tr>\n",
              "      <th>2</th>\n",
              "      <td>cause i could not give up but i was too tired...</td>\n",
              "      <td>GPT2</td>\n",
              "    </tr>\n",
              "    <tr>\n",
              "      <th>3</th>\n",
              "      <td>her hair i dont know said the old lady but i h...</td>\n",
              "      <td>GPTNeo</td>\n",
              "    </tr>\n",
              "    <tr>\n",
              "      <th>4</th>\n",
              "      <td>in the alfred of the keeper is a man of great ...</td>\n",
              "      <td>GPTNeo</td>\n",
              "    </tr>\n",
              "    <tr>\n",
              "      <th>...</th>\n",
              "      <td>...</td>\n",
              "      <td>...</td>\n",
              "    </tr>\n",
              "    <tr>\n",
              "      <th>1995</th>\n",
              "      <td>the first thing i want to do is to get you out...</td>\n",
              "      <td>GPTNeo</td>\n",
              "    </tr>\n",
              "    <tr>\n",
              "      <th>1996</th>\n",
              "      <td>i am here the way the whole world is looking a...</td>\n",
              "      <td>GPTNeo</td>\n",
              "    </tr>\n",
              "    <tr>\n",
              "      <th>1997</th>\n",
              "      <td>and all in the night even the moonlight and al...</td>\n",
              "      <td>GPTNeo</td>\n",
              "    </tr>\n",
              "    <tr>\n",
              "      <th>1998</th>\n",
              "      <td>Time was, I did him a desired office, Dear alm...</td>\n",
              "      <td>Human</td>\n",
              "    </tr>\n",
              "    <tr>\n",
              "      <th>1999</th>\n",
              "      <td>and breed a kind of question in our cause for ...</td>\n",
              "      <td>LSTM</td>\n",
              "    </tr>\n",
              "  </tbody>\n",
              "</table>\n",
              "<p>2000 rows × 2 columns</p>\n",
              "</div>\n",
              "      <button class=\"colab-df-convert\" onclick=\"convertToInteractive('df-704c280a-57d3-4b8f-b7d5-b4a037119a9a')\"\n",
              "              title=\"Convert this dataframe to an interactive table.\"\n",
              "              style=\"display:none;\">\n",
              "        \n",
              "  <svg xmlns=\"http://www.w3.org/2000/svg\" height=\"24px\"viewBox=\"0 0 24 24\"\n",
              "       width=\"24px\">\n",
              "    <path d=\"M0 0h24v24H0V0z\" fill=\"none\"/>\n",
              "    <path d=\"M18.56 5.44l.94 2.06.94-2.06 2.06-.94-2.06-.94-.94-2.06-.94 2.06-2.06.94zm-11 1L8.5 8.5l.94-2.06 2.06-.94-2.06-.94L8.5 2.5l-.94 2.06-2.06.94zm10 10l.94 2.06.94-2.06 2.06-.94-2.06-.94-.94-2.06-.94 2.06-2.06.94z\"/><path d=\"M17.41 7.96l-1.37-1.37c-.4-.4-.92-.59-1.43-.59-.52 0-1.04.2-1.43.59L10.3 9.45l-7.72 7.72c-.78.78-.78 2.05 0 2.83L4 21.41c.39.39.9.59 1.41.59.51 0 1.02-.2 1.41-.59l7.78-7.78 2.81-2.81c.8-.78.8-2.07 0-2.86zM5.41 20L4 18.59l7.72-7.72 1.47 1.35L5.41 20z\"/>\n",
              "  </svg>\n",
              "      </button>\n",
              "      \n",
              "  <style>\n",
              "    .colab-df-container {\n",
              "      display:flex;\n",
              "      flex-wrap:wrap;\n",
              "      gap: 12px;\n",
              "    }\n",
              "\n",
              "    .colab-df-convert {\n",
              "      background-color: #E8F0FE;\n",
              "      border: none;\n",
              "      border-radius: 50%;\n",
              "      cursor: pointer;\n",
              "      display: none;\n",
              "      fill: #1967D2;\n",
              "      height: 32px;\n",
              "      padding: 0 0 0 0;\n",
              "      width: 32px;\n",
              "    }\n",
              "\n",
              "    .colab-df-convert:hover {\n",
              "      background-color: #E2EBFA;\n",
              "      box-shadow: 0px 1px 2px rgba(60, 64, 67, 0.3), 0px 1px 3px 1px rgba(60, 64, 67, 0.15);\n",
              "      fill: #174EA6;\n",
              "    }\n",
              "\n",
              "    [theme=dark] .colab-df-convert {\n",
              "      background-color: #3B4455;\n",
              "      fill: #D2E3FC;\n",
              "    }\n",
              "\n",
              "    [theme=dark] .colab-df-convert:hover {\n",
              "      background-color: #434B5C;\n",
              "      box-shadow: 0px 1px 3px 1px rgba(0, 0, 0, 0.15);\n",
              "      filter: drop-shadow(0px 1px 2px rgba(0, 0, 0, 0.3));\n",
              "      fill: #FFFFFF;\n",
              "    }\n",
              "  </style>\n",
              "\n",
              "      <script>\n",
              "        const buttonEl =\n",
              "          document.querySelector('#df-704c280a-57d3-4b8f-b7d5-b4a037119a9a button.colab-df-convert');\n",
              "        buttonEl.style.display =\n",
              "          google.colab.kernel.accessAllowed ? 'block' : 'none';\n",
              "\n",
              "        async function convertToInteractive(key) {\n",
              "          const element = document.querySelector('#df-704c280a-57d3-4b8f-b7d5-b4a037119a9a');\n",
              "          const dataTable =\n",
              "            await google.colab.kernel.invokeFunction('convertToInteractive',\n",
              "                                                     [key], {});\n",
              "          if (!dataTable) return;\n",
              "\n",
              "          const docLinkHtml = 'Like what you see? Visit the ' +\n",
              "            '<a target=\"_blank\" href=https://colab.research.google.com/notebooks/data_table.ipynb>data table notebook</a>'\n",
              "            + ' to learn more about interactive tables.';\n",
              "          element.innerHTML = '';\n",
              "          dataTable['output_type'] = 'display_data';\n",
              "          await google.colab.output.renderOutput(dataTable, element);\n",
              "          const docLink = document.createElement('div');\n",
              "          docLink.innerHTML = docLinkHtml;\n",
              "          element.appendChild(docLink);\n",
              "        }\n",
              "      </script>\n",
              "    </div>\n",
              "  </div>\n",
              "  "
            ]
          },
          "metadata": {},
          "execution_count": 16
        }
      ]
    },
    {
      "cell_type": "code",
      "source": [],
      "metadata": {
        "id": "-whWwIgoBP4S"
      },
      "execution_count": null,
      "outputs": []
    }
  ],
  "metadata": {
    "accelerator": "GPU",
    "colab": {
      "collapsed_sections": [
        "Gp0IA0QPDXDx"
      ],
      "name": "Preprocess.ipynb",
      "provenance": []
    },
    "gpuClass": "standard",
    "kernelspec": {
      "display_name": "Python 3",
      "name": "python3"
    },
    "language_info": {
      "name": "python"
    }
  },
  "nbformat": 4,
  "nbformat_minor": 0
}